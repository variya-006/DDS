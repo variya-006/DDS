{
  "nbformat": 4,
  "nbformat_minor": 0,
  "metadata": {
    "colab": {
      "provenance": [],
      "authorship_tag": "ABX9TyO+KhOS/2ILFBI/FCEHKx6B",
      "include_colab_link": true
    },
    "kernelspec": {
      "name": "python3",
      "display_name": "Python 3"
    },
    "language_info": {
      "name": "python"
    }
  },
  "cells": [
    {
      "cell_type": "markdown",
      "metadata": {
        "id": "view-in-github",
        "colab_type": "text"
      },
      "source": [
        "<a href=\"https://colab.research.google.com/github/variya-006/DDS/blob/main/Untitled6.ipynb\" target=\"_parent\"><img src=\"https://colab.research.google.com/assets/colab-badge.svg\" alt=\"Open In Colab\"/></a>"
      ]
    },
    {
      "cell_type": "code",
      "execution_count": null,
      "metadata": {
        "id": "y4zxppnsB0Qn"
      },
      "outputs": [],
      "source": [
        "%%write fibonacci cpp\n",
        "\n",
        "using namespace std;\n",
        "int main() {\n",
        "    int M;\n",
        "    cout << \"Enter how many fibonacci numbers to print:\";\n",
        "    cin >> N;\n",
        "    int a=0,b=1;\n",
        "    cout << \"fibonacci sequence:\";\n",
        "    for (int i =0;i<n;i++){\n",
        "        cout << a << \"\";\n",
        "        int next = a+b;\n",
        "        a+b;\n",
        "        b=next;\n",
        "    }\n",
        "    cout << endl;\n",
        "    return 0;\n",
        "}"
      ]
    }
  ]
}