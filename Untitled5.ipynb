{
  "nbformat": 4,
  "nbformat_minor": 0,
  "metadata": {
    "colab": {
      "provenance": [],
      "toc_visible": true,
      "authorship_tag": "ABX9TyPfrdQI8svWY6Cf4kkxkTuC",
      "include_colab_link": true
    },
    "kernelspec": {
      "name": "python3",
      "display_name": "Python 3"
    },
    "language_info": {
      "name": "python"
    }
  },
  "cells": [
    {
      "cell_type": "markdown",
      "metadata": {
        "id": "view-in-github",
        "colab_type": "text"
      },
      "source": [
        "<a href=\"https://colab.research.google.com/github/variya-006/DDS/blob/main/Untitled5.ipynb\" target=\"_parent\"><img src=\"https://colab.research.google.com/assets/colab-badge.svg\" alt=\"Open In Colab\"/></a>"
      ]
    },
    {
      "cell_type": "code",
      "execution_count": 2,
      "metadata": {
        "colab": {
          "base_uri": "https://localhost:8080/"
        },
        "id": "TDbpiO877p4T",
        "outputId": "63ce2928-aa7c-4d14-c204-b660d5f2b66a"
      },
      "outputs": [
        {
          "output_type": "stream",
          "name": "stdout",
          "text": [
            "Overwriting factorial.cpp\n"
          ]
        }
      ],
      "source": [
        "%%writefile factorial.cpp\n",
        "#include <iostream>\n",
        "using namespace std;\n",
        "int factorial(int n) {\n",
        "  if (n==1)\n",
        "   return 1;\n",
        "  else\n",
        "   return n * factorial(n-1);\n",
        "}\n",
        "\n",
        "int main() {\n",
        "  int num = 5;\n",
        "  cout << \"factorial of\" << num << \" is \"<< factorial(num) << emdl;\n",
        "  return 0;\n",
        "}"
      ]
    },
    {
      "cell_type": "code",
      "source": [],
      "metadata": {
        "id": "o9e2PWuh_oKS"
      },
      "execution_count": null,
      "outputs": []
    }
  ]
}